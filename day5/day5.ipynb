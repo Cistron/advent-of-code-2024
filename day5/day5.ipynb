{
 "cells": [
  {
   "cell_type": "code",
   "execution_count": 4,
   "metadata": {},
   "outputs": [],
   "source": [
    "import pandas as pd"
   ]
  },
  {
   "cell_type": "code",
   "execution_count": 2,
   "metadata": {},
   "outputs": [],
   "source": [
    "# load ordering data\n",
    "with open(\"ordering.txt\") as f:\n",
    "    ordering = f.readlines()\n",
    "\n",
    "ordering = [x.strip() for x in ordering]\n",
    "ordering = [x.split(\"|\") for x in ordering]"
   ]
  },
  {
   "cell_type": "code",
   "execution_count": 64,
   "metadata": {},
   "outputs": [],
   "source": [
    "\n",
    "ordering_rules = pd.read_csv(\"ordering.txt\", sep=\"|\", header=None, names=[\"before\", \"after\"])"
   ]
  },
  {
   "cell_type": "code",
   "execution_count": 65,
   "metadata": {},
   "outputs": [
    {
     "data": {
      "text/html": [
       "<div>\n",
       "<style scoped>\n",
       "    .dataframe tbody tr th:only-of-type {\n",
       "        vertical-align: middle;\n",
       "    }\n",
       "\n",
       "    .dataframe tbody tr th {\n",
       "        vertical-align: top;\n",
       "    }\n",
       "\n",
       "    .dataframe thead th {\n",
       "        text-align: right;\n",
       "    }\n",
       "</style>\n",
       "<table border=\"1\" class=\"dataframe\">\n",
       "  <thead>\n",
       "    <tr style=\"text-align: right;\">\n",
       "      <th></th>\n",
       "      <th>before</th>\n",
       "      <th>after</th>\n",
       "    </tr>\n",
       "  </thead>\n",
       "  <tbody>\n",
       "    <tr>\n",
       "      <th>0</th>\n",
       "      <td>12</td>\n",
       "      <td>91</td>\n",
       "    </tr>\n",
       "    <tr>\n",
       "      <th>1</th>\n",
       "      <td>25</td>\n",
       "      <td>68</td>\n",
       "    </tr>\n",
       "    <tr>\n",
       "      <th>2</th>\n",
       "      <td>25</td>\n",
       "      <td>41</td>\n",
       "    </tr>\n",
       "    <tr>\n",
       "      <th>3</th>\n",
       "      <td>41</td>\n",
       "      <td>34</td>\n",
       "    </tr>\n",
       "    <tr>\n",
       "      <th>4</th>\n",
       "      <td>41</td>\n",
       "      <td>45</td>\n",
       "    </tr>\n",
       "    <tr>\n",
       "      <th>...</th>\n",
       "      <td>...</td>\n",
       "      <td>...</td>\n",
       "    </tr>\n",
       "    <tr>\n",
       "      <th>1171</th>\n",
       "      <td>23</td>\n",
       "      <td>54</td>\n",
       "    </tr>\n",
       "    <tr>\n",
       "      <th>1172</th>\n",
       "      <td>23</td>\n",
       "      <td>32</td>\n",
       "    </tr>\n",
       "    <tr>\n",
       "      <th>1173</th>\n",
       "      <td>42</td>\n",
       "      <td>49</td>\n",
       "    </tr>\n",
       "    <tr>\n",
       "      <th>1174</th>\n",
       "      <td>42</td>\n",
       "      <td>54</td>\n",
       "    </tr>\n",
       "    <tr>\n",
       "      <th>1175</th>\n",
       "      <td>91</td>\n",
       "      <td>37</td>\n",
       "    </tr>\n",
       "  </tbody>\n",
       "</table>\n",
       "<p>1176 rows × 2 columns</p>\n",
       "</div>"
      ],
      "text/plain": [
       "      before  after\n",
       "0         12     91\n",
       "1         25     68\n",
       "2         25     41\n",
       "3         41     34\n",
       "4         41     45\n",
       "...      ...    ...\n",
       "1171      23     54\n",
       "1172      23     32\n",
       "1173      42     49\n",
       "1174      42     54\n",
       "1175      91     37\n",
       "\n",
       "[1176 rows x 2 columns]"
      ]
     },
     "execution_count": 65,
     "metadata": {},
     "output_type": "execute_result"
    }
   ],
   "source": [
    "ordering_rules"
   ]
  },
  {
   "cell_type": "code",
   "execution_count": 66,
   "metadata": {},
   "outputs": [],
   "source": [
    "rules_after = ordering_rules.groupby(\"before\")[\"after\"].apply(list)"
   ]
  },
  {
   "cell_type": "code",
   "execution_count": 67,
   "metadata": {},
   "outputs": [],
   "source": [
    "rules_before = ordering_rules.groupby(\"after\")[\"before\"].apply(list)"
   ]
  },
  {
   "cell_type": "code",
   "execution_count": 73,
   "metadata": {},
   "outputs": [
    {
     "data": {
      "text/plain": [
       "before\n",
       "12    [91, 38, 15, 22, 81, 89, 68, 41, 82, 76, 14, 6...\n",
       "13    [29, 25, 57, 35, 31, 81, 73, 42, 14, 19, 91, 8...\n",
       "14    [93, 34, 38, 55, 41, 78, 83, 97, 94, 68, 82, 1...\n",
       "15    [37, 35, 41, 76, 62, 95, 83, 55, 68, 34, 73, 2...\n",
       "16    [32, 13, 29, 87, 85, 42, 89, 19, 97, 71, 12, 2...\n",
       "Name: after, dtype: object"
      ]
     },
     "execution_count": 73,
     "metadata": {},
     "output_type": "execute_result"
    }
   ],
   "source": [
    "rules_after.head()"
   ]
  },
  {
   "cell_type": "code",
   "execution_count": 74,
   "metadata": {},
   "outputs": [
    {
     "data": {
      "text/plain": [
       "before\n",
       "12    24\n",
       "13    24\n",
       "14    24\n",
       "15    24\n",
       "16    24\n",
       "18    24\n",
       "19    24\n",
       "22    24\n",
       "23    24\n",
       "24    24\n",
       "25    24\n",
       "27    24\n",
       "28    24\n",
       "29    24\n",
       "31    24\n",
       "32    24\n",
       "34    24\n",
       "35    24\n",
       "37    24\n",
       "38    24\n",
       "41    24\n",
       "42    24\n",
       "45    24\n",
       "49    24\n",
       "52    24\n",
       "53    24\n",
       "54    24\n",
       "55    24\n",
       "57    24\n",
       "58    24\n",
       "62    24\n",
       "68    24\n",
       "71    24\n",
       "73    24\n",
       "76    24\n",
       "78    24\n",
       "81    24\n",
       "82    24\n",
       "83    24\n",
       "84    24\n",
       "85    24\n",
       "87    24\n",
       "89    24\n",
       "91    24\n",
       "93    24\n",
       "94    24\n",
       "95    24\n",
       "96    24\n",
       "97    24\n",
       "Name: after, dtype: int64"
      ]
     },
     "execution_count": 74,
     "metadata": {},
     "output_type": "execute_result"
    }
   ],
   "source": [
    "rules_after.apply(len)"
   ]
  },
  {
   "cell_type": "code",
   "execution_count": 71,
   "metadata": {},
   "outputs": [
    {
     "data": {
      "text/plain": [
       "Index([12, 13, 14, 15, 16, 18, 19, 22, 23, 24, 25, 27, 28, 29, 31, 32, 34, 35,\n",
       "       37, 38, 41, 42, 45, 49, 52, 53, 54, 55, 57, 58, 62, 68, 71, 73, 76, 78,\n",
       "       81, 82, 83, 84, 85, 87, 89, 91, 93, 94, 95, 96, 97],\n",
       "      dtype='int64', name='after')"
      ]
     },
     "execution_count": 71,
     "metadata": {},
     "output_type": "execute_result"
    }
   ],
   "source": [
    "rules_before.index"
   ]
  },
  {
   "cell_type": "code",
   "execution_count": 95,
   "metadata": {},
   "outputs": [],
   "source": [
    "# some function to find the order of the pages\n",
    "def find_order(pages: list, ordering_rules: pd.DataFrame) -> list:\n",
    "    pages = pages.copy()\n",
    "    changed = True\n",
    "    while changed:\n",
    "        changed = False\n",
    "        for i in range(len(pages)):\n",
    "            for j in range(i + 1, len(pages)):\n",
    "                page1, page2 = pages[i], pages[j]\n",
    "                if page2 in ordering_rules.get(page1, []):\n",
    "                    continue\n",
    "                if page1 in ordering_rules.get(page2, []):\n",
    "                    # swap the pages\n",
    "                    pages[i], pages[j] = pages[j], pages[i]\n",
    "                    changed = True\n",
    "                    break\n",
    "    return pages"
   ]
  },
  {
   "cell_type": "code",
   "execution_count": 97,
   "metadata": {},
   "outputs": [],
   "source": [
    "# loading updates\n",
    "with open(\"updates.txt\") as f:\n",
    "    updates = f.readlines()\n",
    "\n",
    "updates = [[int(i) for i in x.strip().split(\",\")] for x in updates]\n"
   ]
  },
  {
   "cell_type": "code",
   "execution_count": 107,
   "metadata": {},
   "outputs": [
    {
     "name": "stdout",
     "output_type": "stream",
     "text": [
      "3608\n"
     ]
    }
   ],
   "source": [
    "middle_number_sum = 0\n",
    "\n",
    "for update in updates:\n",
    "    sorted_update = find_order(update, rules_after)\n",
    "    if update == sorted_update:\n",
    "        middle_i = int((len(update) - 1)/2)\n",
    "        middle_number_sum += update[middle_i]\n",
    "\n",
    "print(middle_number_sum)\n",
    "    "
   ]
  },
  {
   "cell_type": "code",
   "execution_count": 106,
   "metadata": {},
   "outputs": [
    {
     "name": "stdout",
     "output_type": "stream",
     "text": [
      "4922\n"
     ]
    }
   ],
   "source": [
    "# getting the sum of middle numbers of incorrectly sorted lists\n",
    "# after they were sorted\n",
    "\n",
    "middle_number_sum_corrected = 0\n",
    "\n",
    "for update in updates:\n",
    "    sorted_update = find_order(update, rules_after)\n",
    "    if update != sorted_update:\n",
    "        middle_i = int((len(sorted_update) - 1)/2)\n",
    "        middle_number_sum_corrected += sorted_update[middle_i]\n",
    "\n",
    "print(middle_number_sum_corrected)\n",
    "    "
   ]
  },
  {
   "cell_type": "code",
   "execution_count": null,
   "metadata": {},
   "outputs": [],
   "source": []
  }
 ],
 "metadata": {
  "kernelspec": {
   "display_name": ".venv",
   "language": "python",
   "name": "python3"
  },
  "language_info": {
   "codemirror_mode": {
    "name": "ipython",
    "version": 3
   },
   "file_extension": ".py",
   "mimetype": "text/x-python",
   "name": "python",
   "nbconvert_exporter": "python",
   "pygments_lexer": "ipython3",
   "version": "3.12.6"
  }
 },
 "nbformat": 4,
 "nbformat_minor": 2
}
