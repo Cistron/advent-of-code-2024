{
 "cells": [
  {
   "cell_type": "code",
   "execution_count": 17,
   "metadata": {},
   "outputs": [],
   "source": [
    "import re\n",
    "import numpy as np"
   ]
  },
  {
   "cell_type": "code",
   "execution_count": 5,
   "metadata": {},
   "outputs": [],
   "source": [
    "data = \"\"\"Button A: X+94, Y+34\n",
    "Button B: X+22, Y+67\n",
    "Prize: X=8400, Y=5400\n",
    "\n",
    "Button A: X+26, Y+66\n",
    "Button B: X+67, Y+21\n",
    "Prize: X=12748, Y=12176\n",
    "\n",
    "Button A: X+17, Y+86\n",
    "Button B: X+84, Y+37\n",
    "Prize: X=7870, Y=6450\n",
    "\n",
    "Button A: X+69, Y+23\n",
    "Button B: X+27, Y+71\n",
    "Prize: X=18641, Y=10279\"\"\".strip()"
   ]
  },
  {
   "cell_type": "code",
   "execution_count": 37,
   "metadata": {},
   "outputs": [],
   "source": [
    "with open(\"input.txt\") as f:\n",
    "    data = f.read().strip()"
   ]
  },
  {
   "cell_type": "code",
   "execution_count": 38,
   "metadata": {},
   "outputs": [],
   "source": [
    "problems = []\n",
    "for problem in data.split(\"\\n\\n\"):\n",
    "    lines = problem.split(\"\\n\")\n",
    "    a_x, a_y = re.findall(r\"\\d{2,3}\", lines[0])\n",
    "    b_x, b_y = re.findall(r\"\\d{2,3}\", lines[1])\n",
    "    t_x, t_y = re.findall(r\"\\d{3,5}\", lines[2])\n",
    "    problems.append((int(a_x), int(a_y), int(b_x), int(b_y), int(t_x), int(t_y)))"
   ]
  },
  {
   "cell_type": "code",
   "execution_count": 40,
   "metadata": {},
   "outputs": [
    {
     "name": "stdout",
     "output_type": "stream",
     "text": [
      "28753.0\n"
     ]
    }
   ],
   "source": [
    "def solve(a_x, a_y, b_x, b_y, t_x, t_y) -> tuple[float, float]:\n",
    "    # a_x * push_a + b_x * push_b = t_x\n",
    "    # a_y * push_a + b_y * push_b = t_y\n",
    "    coefs = np.array([[a_x, b_x], [a_y, b_y]])\n",
    "    ordinates = np.array([t_x, t_y])\n",
    "    a, b = np.linalg.solve(coefs, ordinates)\n",
    "    return a.round(1), b.round(1)\n",
    "\n",
    "tokens = 0\n",
    "for problem in problems:\n",
    "    a, b = solve(*problem)\n",
    "    if a.is_integer() and b.is_integer():\n",
    "        tokens += a*3+b\n",
    "\n",
    "print(tokens)"
   ]
  },
  {
   "cell_type": "code",
   "execution_count": 41,
   "metadata": {},
   "outputs": [],
   "source": [
    "problems2 = []\n",
    "correction_amount = 10000000000000\n",
    "for problem in problems:\n",
    "    problems2.append(\n",
    "        (\n",
    "            problem[0],\n",
    "            problem[1],\n",
    "            problem[2],\n",
    "            problem[3],\n",
    "            problem[4] + correction_amount,\n",
    "            problem[5] + correction_amount,\n",
    "        )\n",
    "    )"
   ]
  },
  {
   "cell_type": "code",
   "execution_count": 43,
   "metadata": {},
   "outputs": [
    {
     "name": "stdout",
     "output_type": "stream",
     "text": [
      "102718967795500.0\n"
     ]
    }
   ],
   "source": [
    "tokens2 = 0\n",
    "for problem in problems2:\n",
    "    a, b = solve(*problem)\n",
    "    if a.is_integer() and b.is_integer():\n",
    "        tokens2 += a*3+b\n",
    "\n",
    "print(tokens2)"
   ]
  },
  {
   "cell_type": "code",
   "execution_count": null,
   "metadata": {},
   "outputs": [],
   "source": []
  }
 ],
 "metadata": {
  "kernelspec": {
   "display_name": ".venv",
   "language": "python",
   "name": "python3"
  },
  "language_info": {
   "codemirror_mode": {
    "name": "ipython",
    "version": 3
   },
   "file_extension": ".py",
   "mimetype": "text/x-python",
   "name": "python",
   "nbconvert_exporter": "python",
   "pygments_lexer": "ipython3",
   "version": "3.12.6"
  }
 },
 "nbformat": 4,
 "nbformat_minor": 2
}
