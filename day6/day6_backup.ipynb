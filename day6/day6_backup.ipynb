{
 "cells": [
  {
   "cell_type": "code",
   "execution_count": 2,
   "metadata": {},
   "outputs": [],
   "source": [
    "import numpy as np\n",
    "from enum import StrEnum\n",
    "from itertools import pairwise"
   ]
  },
  {
   "cell_type": "code",
   "execution_count": 3,
   "metadata": {},
   "outputs": [],
   "source": [
    "# loading map data into numpy array\n",
    "with open('map.txt') as f:\n",
    "    map = f.readlines()\n",
    "\n",
    "map = [x.strip() for x in map]\n",
    "map = [list(x) for x in map]\n",
    "map = np.array(map)"
   ]
  },
  {
   "cell_type": "code",
   "execution_count": 4,
   "metadata": {},
   "outputs": [],
   "source": [
    "# directions\n",
    "class MapMarkers(StrEnum):\n",
    "    UP = 'U'\n",
    "    RIGHT = 'R'\n",
    "    LEFT = 'L'\n",
    "    DOWN = 'D'\n",
    "    VISITED = 'X'\n",
    "    START = '^'\n",
    "    OBSTACLE = '#'"
   ]
  },
  {
   "cell_type": "code",
   "execution_count": 13,
   "metadata": {},
   "outputs": [],
   "source": [
    "def get_next_coordinates(\n",
    "    map: np.array, current_coordinates: tuple[int], direction: str\n",
    ") -> tuple[tuple[int, int], str, bool]:\n",
    "    direction_map = {\n",
    "        MapMarkers.UP: (-1, 0),\n",
    "        MapMarkers.DOWN: (1, 0),\n",
    "        MapMarkers.LEFT: (0, -1),\n",
    "        MapMarkers.RIGHT: (0, 1),\n",
    "    }\n",
    "\n",
    "    next_direction_map = {\n",
    "        MapMarkers.UP: MapMarkers.RIGHT,\n",
    "        MapMarkers.RIGHT: MapMarkers.DOWN,\n",
    "        MapMarkers.DOWN: MapMarkers.LEFT,\n",
    "        MapMarkers.LEFT: MapMarkers.UP,\n",
    "    }\n",
    "\n",
    "    while True:\n",
    "        delta = direction_map[direction]\n",
    "        next_coordinates = (\n",
    "            current_coordinates[0] + delta[0],\n",
    "            current_coordinates[1] + delta[1],\n",
    "        )\n",
    "\n",
    "        # check for out of bounds:\n",
    "        if (\n",
    "            next_coordinates[0] < 0\n",
    "            or next_coordinates[1] < 0\n",
    "            or next_coordinates[0] >= map.shape[0]\n",
    "            or next_coordinates[1] >= map.shape[1]\n",
    "        ):\n",
    "            return next_coordinates, direction, True\n",
    "\n",
    "        if map[next_coordinates] == MapMarkers.OBSTACLE:\n",
    "            direction = next_direction_map[direction]\n",
    "            continue\n",
    "        else:\n",
    "            return next_coordinates, direction, False"
   ]
  },
  {
   "cell_type": "code",
   "execution_count": 14,
   "metadata": {},
   "outputs": [
    {
     "data": {
      "text/plain": [
       "(array([69]), array([74]))"
      ]
     },
     "execution_count": 14,
     "metadata": {},
     "output_type": "execute_result"
    }
   ],
   "source": [
    "np.where(map == MapMarkers.START)"
   ]
  },
  {
   "cell_type": "code",
   "execution_count": 29,
   "metadata": {},
   "outputs": [],
   "source": [
    "# find starting coordinates\n",
    "current_coordindates = (69, 74)\n",
    "direction = MapMarkers.UP\n",
    "steps = [(current_coordindates, direction)]\n",
    "\n",
    "while True:\n",
    "    next_coordinates, direction, oob = get_next_coordinates(map, current_coordindates, direction)\n",
    "    steps.append((next_coordinates, direction))\n",
    "    # checking if coordinates are outside of the map\n",
    "    if oob:\n",
    "        break\n",
    "    else:\n",
    "        current_coordindates = next_coordinates"
   ]
  },
  {
   "cell_type": "code",
   "execution_count": 30,
   "metadata": {},
   "outputs": [
    {
     "data": {
      "text/plain": [
       "6006"
      ]
     },
     "execution_count": 30,
     "metadata": {},
     "output_type": "execute_result"
    }
   ],
   "source": [
    "len(steps)"
   ]
  },
  {
   "cell_type": "code",
   "execution_count": 31,
   "metadata": {},
   "outputs": [
    {
     "name": "stdout",
     "output_type": "stream",
     "text": [
      "....#.................#......................#..........................#..................#....##..#....X......#.................\n",
      "...................................#...............................#......#..#...........................X...#....................\n",
      "..........................#................#......##.....#.....................................#.........X.....#..#...............\n",
      "..........................XXXXXXXXXXXXXXXXXXXXXXXXXXXXXXXXXXXXXXXXXXXXXXXXXXXXXXXXXXXXXXXXXXXXXXXXXXXXX#.X........................\n",
      "...................#....#.X.......................#..............#.....#..............................XXXXXXXXXXXXXXXXXXXXXXXX#...\n",
      ".....#.............XXXXXXXXXXXXXXXXXXXXXXXXXXXXXXXXXXXXXXXXXXXXXXXXXXXXXXXXXXXXXXXXXXXXXXXXXXXXXXXXXXXXXXXXXXXX#.............X....\n",
      "...................X......X..............................#....................#..#............#.......XX.X....X#.............X....\n",
      "..............#....X......X...#..........................XXXXXXXXXXXXXXXXXXXXXXXXXXXXXXXXXXXXXXXX#....XX#XXXXXXXXXXXXXXXXXXXXX....\n",
      ".........#.....#...X...#..X...#.......................#..X..........#..#........#.......#.......X....#XX.....#X...#..#.......#....\n",
      "...................X....#.X..#XXXXXXXXXXXXXXXXXXXXXXXXXXXXXXXXXXXXXXXXXXXXXXX#...#.#............X.....XX.....XXXXXXXXXXXXXXXX#....\n",
      "...................X.....#XXXXXXXXXXXXXXXXXXXXXXXXXXXXXXXXXXXXXXXXXXXXXXXXXXXXXXXXXXXXXXXXXXXXXXX.#...XX.....XX.........#...X.....\n",
      ".#..........#...#..X..........X.#..................#...#.X....#.............X...................#.....XX.....XX......#......X#....\n",
      "...................X..........X.XXXXXXXXXXXXXXXXXXXXXXXXXXXX#......#........X.........................XX.....XX.............X#....\n",
      "...................X...#...#..X.X.............#.#........X.X..#.............X........#.............#..XX.....XX.............X.....\n",
      "...................X..........X.X.............XXXXXXXXXXXXXXXXXXXXXXXXXXXXXXXXXXXXXXXXXXXXXXXXXXXXXXXXXXXXXX#XX.......#.....X.....\n",
      "....#..............X...###....X.X.#...........X..........X.X....#.#.........X..........#..........#...XX...X.XX.........#...X.....\n",
      "...................X....XXXXXXXXXXXXXXXXXXXXXXXXXXXXXXXXXXXXXXXXXXXXXXXXXXXXXXXXXXXXXXXXXXXXXXXX#.....XX...X.XX.........#.#.X.....\n",
      "...................X....X.....X.X.............X..........X.X..............#.X......#...#.......X......XX.#.X.XX..#..........X.....\n",
      "...................X....X.#.#.X#X#............X..........X.X................X....#..........#..X......XX...X.XX............#X.....\n",
      "..............#....X...#X#....X.X........#....X..........X.X..........#.....X....#.............X......XX...X.XX.......#.....X..#.#\n",
      "#.............XXXXXXXXXXXXXXXXXXXXXXXXXXXXXXXXXXXXXXXXXXXXXXXXXXXXXXXXXXXXXXXXXXXXXXXXXXXXXXXXXXXXX#..XX...X.XX#......XXXXXXXXXX#.\n",
      "..............X....X....X.....X.X.............X#.........X.X................X...........#......X..X...XX...X.XX.......X...#.X..X..\n",
      ".....#..#.....X#...X...#X.....X.X.....#.......X#........#XXXXXXXXXXXXXXXXXXXXXXXXXXXXXXXXXXXXXXXXXXXXXXXXXXX.XX.....#.X.....X..X..\n",
      ".......#......X...#X....X.#.#.X.X.......#.....X..........#.X................X..................X..X...XX...#.XX.......X.....X..X..\n",
      "....#.....#...X....X....X.#...X#X......#...#..X............X................X..................X..X...XX.#...XX.......X.....X#.X..\n",
      "..........XXXXXXXXXXXXXXXXXXXXXXXXXXXXXXXXXX#.X..#.......#.X................X.............#....X.#X...XX.XXXXXXXXXXXXXXX#...X.#X..\n",
      "..........X...X....X.#..X.....X.X..........X..X..........#.X..#.............X..................X.XXXXXXXXXXXXXXXXXXXXXXXXX#.X..X..\n",
      "..#.......X...X....X....X.....X.X#.........X.#XXXXXXXXXXXXXX.............#..X..................X.XX...XX.X.#.XX.......XX.X..X..X..\n",
      "........#.X...X....X....X.....X.XXXXXX##...X...............#................X....#.............X.XX...XX.X...XX.......XX.X..X..X..\n",
      "..........X...X.#.#X#...X..#..X.XX...X.XXXXXXXXXXXXXXXXXXXXXXXXXXXXXXXXXXXX#X..###.........#...X#XX...XX.X...XX.......XX.X..X..X..\n",
      ".......#..X...X....X.#..X.....X.XX.#.X.X...X...#..#.......................X.X.....#............X.XX...XX.X...XX......#XX.X.#X..X.#\n",
      ".....#...#X...X..#.X.XXXXXXXXXXXXXXXXXXXXXXXXXXXXXXXXXXXXXX#..............X.X.............#....X.XX...XX.X...XX....#..XX.X..X..X.#\n",
      "..........X...X....X.X..X.....X.XX...X.X...X...#.....#....X...............X.X.............XXXXXXXXXXXXXXXXXXXXXXXXXX#.XX.X..X..X..\n",
      ".........#X...X....X.X..X.....X.XX...X.X...X.....#........X..............#X.X........#....X....X.XX...XX.X...XX....X..XX.X..X..X..\n",
      ".........XXXXXXXXXXXXXX#X....#XXXXXXXXXXXXXXXXXXXXXXXXXXXXXXXXXXXXXXXXXXXXX.X......#......X....X.XX...XX.X...XX....X..XX#X..X..X..\n",
      ".........XX...X....X.XX.X....#..XX...X.X...X........#.....X...............#.X............#X.#..X.XX...XX.X...XX....X#.XX.X..X..X..\n",
      "......#..XX...X....X.XX.X.......XX...X.X...X.#.......#....X................#X....#........X..#.X.XX...XX#X...XX....X..XX.X..X.#X..\n",
      "......XXXXXXXXXXXXXXXXXXXXXXXXXXXXXXXXXXXXXXXXXXXX#..XXXXXXXXXXXXXXXXXX#....X..#....#.....X.#..X#XXXXXXXXXXXXXXXXXXX..XX.X..X..X..\n",
      "......X..XX...X....X.XX.X.......XX...X#X...X.#...X...X#...X.#.........X.....X.......XXXXXXXXXXXXXXXXX#XX.X...XX....#..XX.X..X..X..\n",
      "#.....X..XX...X....X.XX#X#......XX...X.X#..X..#..X...X..#.X...........X.....X.......X...#.X....X..X.X.XX.X...XX.......XX#X..X..X..\n",
      "#.....X#.XX...X....X.XX#X.......XX...X.X...X.....X...X....X...........X.....X.......X...XXXXXXXXXXXXXXXXXXXXXXXXX#..#.XX.X..X..X..\n",
      ".#....X..XX...X....X.XX.X.......XX...X.X...X....#X...X....X.......#...X...#.X.......X...X.X....X..X.X.XX.X...XX.X.....XX.X..X..X..\n",
      "...#..X..XX#..X..#.X.XX.X......#XX...X.X...X.....X...X....X...........X...XXXXXXXXXXXXXXXXXXXXXXXXXXXXXXXXXXXXXXXXX#..XX.X..X..X..\n",
      "......X..XX...X....X.XX.X.#.....XX.#.X.X...X#....X...X....X...........X...X.X.....#.X...X.X....X..X.X.XX.X.#.XX.X.X...XX.X#.X#.X..\n",
      "......X#.XX...X...#X.XX.X.#.....XX...X.X...X.....X...X....X...........X...X.X.#.##..X..#X#X....X..X#X.XX#X...XX.X.X...XX.X#.X..X..\n",
      "..##..X..XX...X....X.XX#X.XXXXXXXXXXXXXXXXXXXXXXXXXXXXXXXXXXXXX#......X...X.X.#.#...X...X#XXXXXXXXXXXXXXXXXXXXX.X.X...XX.X..X..X..\n",
      "#.....X.#XX...X....X.XX#X.X.....XX.#.X.X.#.X..#..X.#.X....X...X.#.....X..#X.X.XXXXXXXXXXXXXXXXXXXXXXXXXXXXXX#X#.X.X...XX#X..X..X..\n",
      "......X..XX...X...#XXXXXXXXXXXXXXXXXXXXXXXXXXXXXXXXXXXXXXXXXXXXXXXXXXXXXXXXXXXXXXXXXXXXXXXXXXXXXXXXXXXXX.X.X.X..X.X...XX.X#.X..X..\n",
      "......X..XX...X......XX.X.X.#...XX...X#X...X.....X...X....X#..X.......X...X.X.X.....X...X..#...X..X.X.#XXXXX.X..X.X...XX.X..X..X..\n",
      "......X..XX..#X......XX.X.X.XXXXXXXXXXXXXXXXXXXXXXXXXXXXXXXXXXXXXXXXXXXXXXXXXXXXXXX#X...X#.....X..X.X....X.#.X..X.X...XX.X..X..X..\n",
      "...#..X#.XX...X.....#XXXXXXXXXXXXXXXXXXXXXXX...#.X...X....X...X.......X...X.X.X...X.X...X.#....X..X.X....X...X..X.X...XX.X..X..X..\n",
      "..#...XXXXXXXXXX#.#...X.X.X.X...XX...X.X...#...#.X...X....X...X.......X#..X.X.X..#X.X...X......X..X.X.##.X..#XXXXXXXXXXXXX..X..X..\n",
      "......XX.XX...XX..XXXXXXXXXXXXXXXXXXXXXXXXXXXXXXXXXXXXXXXXXXXXXXXXXXXXXXXXXXXXXXXXXXXXXXXXXXXXXXXXXXXXXXXXX#XXXXXXXXX#XX.#..X..X..\n",
      "......XX.XX...XX..X...X.X.X.X#.#XXXXXXXXXXXXXXXXXXXXXXXXXXXXXXXXXXXXXXX...X.X.X...X.X...X......X..X.X....XX.X...X.X.X.XX..#.X..X..\n",
      "......XX.XX...XX..X.#.X.X.X.X....X...X.X.....#.#.X...X#...X...X.......#...X.X#X...X.X...X......X..X.X....XX#XXXXXXXXXXXX....X..X..\n",
      "....#.XX#XX...XX#.X...X.X.X.X....X.#.X.X.......XXXXXXXXXXXXXXXXXXXXXXXXXXXXXXXXXXXXXXXXXXXXXXX#X..X.X....XX.....X.X.X.X#....X..X..\n",
      ".#....XX.XX..#XX..X...X.X.X.X....X...X.X.......X.X...X....X.#.X...........X.X.X...X.X...X....X.X..X.X...#XXXXXXXXXXXXXXXXXXXX..X..\n",
      "......XX.XX...XX..X...X.X.X.X.#..X...X.X..#....X.X...X....X...X...........X.X.X...X.X.#.X....X.X#.X.X.....X.....X.X.X.X.....#..X.#\n",
      "......XX.XX.#.XX..X.#.X.X.X#X...#X...X.X.......X.X...X....X...X...........X.X.X...X.X...X....X.XXXXXXXXX#.X.....X.X.X.X........X..\n",
      "......XX.XX.XXXXXXXXXXXXXXXXXXXXXXXXXXXXX#...#.X.X...X....X...X.#.........X.X.X...X#X...X....X.XX.X.X..X..X.....X.X.X.X..#.....X..\n",
      "......XX.XX.X.XX#.X...X.X.X.X....X.#.X.XX...#XXXXXXXXXXXXXXXXXXXXXXXXX#...X.X.X...X.X...X.#..X.XX.X.X..X..X.....X.X.X.X........X.#\n",
      "......XX.XX.X.XX..X...X.X.X.X....X...X.XX....X.X.X...X....X.#.X...#..X....X#X.X...X.X...X....X.XX.X.X..X..X.....X.X.X.X........X..\n",
      "......XX.XX.X.XX..X...X.X.X.X.#..X...X.XX..#.X.X.X...X....X...X......X....X.X.X...X.X#..X....X.XX.X#X..X..X#..#.X.X.X.X........X..\n",
      "...#..XX.XX.X.XX#.X...X.X.X.X....X...X.XX....X.X.X...X....X...X......X....X.X.X...X.X...X#...X.XX.X.X..X..XXXXXXXXXXXXXXXXXX#..X.#\n",
      "......XX.XX.X.XX..X...X.X.X.X.#..X...X#XX....X.X.X..#XXXXXXXXXXXXXXXXXXXXXXXXXXXXXXXXXXXXXXXXXXXXXX.X.#X..XX....X.X.X.X....X...X..\n",
      ".....#XX.XX.X.XX..X...X.X.X.X....X...X.XX....X.X.X.....#..X...X...#..X....X.X.X...X.X...X....X.XX.#.X##X..XX....X.X.X.X....X...X.#\n",
      "......XX.XX.X#XX..X...X.X.X.X....X...X.XX....X.X.X........X...X......X.#..X.X.X...X.X...X....X.XX...X#.X#.XX....X.X.X.X#...X...X#.\n",
      "......XX.XX.X.XX..X.#.X.X.X.X....X..#X.XX....X.X.X........X...X......X....X.X.X...X.X...X....X.XX...X..X..XX....X.X.X#X...#X...X.#\n",
      "......XX#XX.X#XX#.X...X.X.X.X....X..XXXXXXXXXXXXXXXXXXXXXXXXXXXXXXXXXXXXXXXXXXXXXXXXXXXXXXXX#X.XX...X..X..XX.#..X.X.X.X....X#..X..\n",
      "....#.XX.XX.X.XX..X...X.X.X#X....X..XX.XX..#.X.X.X....#...X..#X......X.#..X.X.X#..X.X...X.#X.X.XX...X..X..XX.#..X.X.X#X....X...X..\n",
      "......XX.XX.X.XX..X...X.X.X#X#...X..XX.XX..XXXXXXXXXXXXXXXXXXXXXXXXXXXXXXXXXXXXXX#X.X...X..X.X.XX...X..X..XX....X#X.X.X....X...X..\n",
      "#..#..XX.XX.X.XX..X...X.X.X.X....X..XX.XX..X.X.X.X........X..#X....#.X......X.X.X.X.X...X..X#X.XX...X..X..XX....X.X.X.X....X...X..\n",
      ".#.#..XX#XXXXXXXXXXXXXXXXXXXXXXXXXXXXXXXX..X.X.X#X.....#..X...X...#..X......X.X.X.X#X.#.X..X.X.XX...X..X..XX....X.X.X.X....X...X..\n",
      "...#..XX.#X.X.XX..X.#.X.X.X.X....X..XX.X#..X.X.X#X........X...X......X......X#XXXXXXXXXXXXXXXXXXXXXXXXXX..XX....X.X.X.X....X...X..\n",
      "......XX..X.X#XX..X.XXXXXXXXXXXXXXXXXXXXXXXXXXXXXXXXXXXXXXXXXXXXXXXX#X......X...X#X.X...X..X.X.XX...X..#..XX....X.X.X.X....X.#.X..\n",
      "......XX..X.X.XX..X#X.X.X.X.X....X..XX.X...X.X.X.X........X...X....X.X......X...X.X.X...X..X.X.XX...X.....XX....X#X.X.X....X...X..\n",
      "......XX..X.X.XX..X#X.X.X#XXXXXXXXXXXXXXXXXXXXXXXXXXXXXXXXXXXXXXXXXXXXXXXXXXXXXXXXX.X...X..X.X.XX...X.....XX....X.X.X.X....X.#.X..\n",
      "......XX..X.X.XX#.X.X.X.X...X#...X..XX.X...X.X.X.X..#.....X.#.X....X.X......X..#X.#.X...X..X.X.XX...X...#.XX....X.X.X.X#...X...X#.\n",
      "#....#XX..X.X.XX..X.X.X.X...XXXXXXXXXXXXXXXXXXXXXXXXXXXXXXXXXXXXXXXXXXXXX#..X...X##.X..#X..X.X.XX.#.X.....XX....X.X.X.X....X...X..\n",
      "......XX..X.X.XX..X.X.X.X...XX...X..XX.X.#.X.X.X.X....#...X..#X....X.X..X...X...X...X#..X..X.X#XX...X.....XX.#.#X.X.X.X....X...X..\n",
      ".##...XX..X#X.XX.#XXXXXXXXXXXXXXXXXXXXXXXXXXXXXXXXXXXXXXXXXXXXXXXXXXXXXXXXXXXXXXX...X...X..X.X.XX...X.....XX.#..X.X.X.X....X#..X..\n",
      "#.....XX..X.X.XX....X.X.X...XX...X..XX.X...X.X.X.X........X.#.X....X#X..X#..X...#..#X...X..X.X.XX...X.....XX....X.X.X.X#..#X#..X..\n",
      "......XX..X.X#XXXXXXXXX.X...XX...X..XX.X...X.X.X.X....#...X...X....X.X..X...X.......X.#.X..X.X.XX...X.....XX....X.X.X.X....X...X..\n",
      "......XX..X.X..X....X.#.X...XX...X..XX.X...X.X.X.X........X...X....X.X..X...X.......X...X#.X.X.XX...X.....XX....X.X.X.X....X#..X..\n",
      "...#.#XXXXXXXXXXXXXXXXXXXXXXXXXXXXXXXX.X...X.X#XXXXXXXXXXXXXXXXXXXXXXXXXXXXXXXXXXXXXXXXXXXXXXXXXXXXXXXXXXXXXXXXXX.X.X.X....X...X#.\n",
      ".......X..X.X#.X....X...X...XX...X..X#.X...X.X...X........X...X...#X#X..X...X.......X...X..X.X.XX...X#....XX.#..#.X.X.X....X#..X..\n",
      "...#..#XXXXXXXXXXXXXXXXXXXXXXXXXXXXXXXXXXXXXXXXXXXXXXXXXXXXXXXX....X.X..X...X.......X.#.X..X.X.XX...X..#..XX......X.X.X....X...X..\n",
      ".......#..X.X..X....X...X...XX...X..X#.X...X.X...X#..#....X...#....X#X..X...X.......X...X..X.X#XX...X.....XX.....#X.X.X....X...X..\n",
      "......#...X.X..X....X...X...XX...X..X..X...X.X...X........X........XXXXXXXXXXXXXXXXXXX##XXXXXXXXXXXXXXXXXXXX......X.X.X..#.X..#X..\n",
      "........#.X.X..X....X...X..#XXXXXXXXXXXXXXXXXXXXXXXXXXXXXXXXXXXXXXXXXXXXXXXXXXXXXXXXXXXXXXXXXXXXX..#X.....#X......X.X#XXXXXX...X..\n",
      "..........X#X..X...#X...X...#X...X..X..X...X.X...X........X........XXX.#X...X...#...XX.....X.X.#X...X......X.....#X.X......#...X..\n",
      "..........X.X..X...#XXXXXXXXXXXXXXXXXXXXXXXXXXXXXX#.......X........XXX..X...X.....#.XX.....X.X..X...X...#..X..#...X.X..........X..\n",
      "..........X.X#.X#.......X....X...X.#X#.X#..X.X#..#........X........XXX..X...X.......XX.....X.X..X...X......X......X.X.......#..X..\n",
      "..........X.X..X........X....X#..X..X..XXXXXXXXXXXXXXXXXXXXXXXXXXXXXXXXXXXXXXXXXXX#.XX.....X.X..X...X.....#XXXXXXXXXX....#.....X..\n",
      ".......#..X.X..X........X....X#..X..X..XX..X.X............X.#......XXX..X...X....X..XX..#..X.X#.X.#.X.............X.#........#.X..\n",
      ".........#X.X..X.#....##XXXXXXXXXXXXXXXXXXXXXXXXXXXXXXXXXXXXXXXXXXXXXXXXX...X....X..XX.....X.X..X...X.............X............X..\n",
      "..........X.X..X.............X...X..X..XX..X.X............X........XXX..#...X....X..XX.....X.X.#XXXXXXXXXXXXXXXXXXXXXXXXXXXXXXXX..\n",
      "..........X.X..X.......#.....X...X##X#.XX..X.X............X........XXX......X....X..XX#..#.X.X.#....X.#......#....X............#..\n",
      "..........X.X..X.............X...X..X.#XXXXXXXXXXXXXXXXXXXXXXXXXXXXXXXXXXXXXXXXXXXXXXXXXXXXXXXXXXXXXX........#....X...............\n",
      "..........X.X..X.............X...X..X#..X.#X.X............X........XXX......X....X..XX....#X.X#.....#.......#...#.X.........#.....\n",
      "..........X.X..X...#..#......X...X..X...X..X.X............X........XXX......X....X..XX.....X.X.........#..........X...............\n",
      "..........X.X.#X.............X..#XXXXXXXXXXXXXXXXXXXXXXXXXX....#...XXX......X.#..X..XX....#X#X.................#..X#.............#\n",
      "..........X.X..X#..#......#..X..XXXXXXXXXXXXXXXXXXXX#.....#.....#..XXX......X..#.X#.XX.....X.X....................X.........#.....\n",
      ".....#....X.X..X.............X.#X...X...X..X.X.....X...............XXX..#...X.#..X..XX#....X.X....#...............X...#...........\n",
      "......#...X.X..X...........##XXXXXXXXXXXXXXXXXXXXXXXXXXXXXXXXXXXXXXXXXXXXXXXX....X..XX.....X.X....................X#..............\n",
      "..........X.X..X................X...X...X..X.X.....X...............XXX......###..X..XX.....X.X................#...X...............\n",
      "#.........X.X..X................X..#X...X.#XXXXXXXXXXXXXXXXXXXXXXXXXXXXXXXXXXXXXXXXXXXXXXXXXXXXXXXXXXXXXXXXXXXXXXXX......#.......#\n",
      ".....#....X.X..X.........#.....#XXXXXXXXXXXXXXXXXXXXXXXXXXXXXXXXXXXXXX...........X..XX.....X#X....................#...#...........\n",
      ".......#..X.X.#X....................X..#X....X.....X.........#.#..##XX..........#X..XX.#...X.X...........#.....................#..\n",
      ".....#....X.X..X....#...............X.#.X....X.#...X...........XXX#..#...........X..XX.....X.X..##.....#..#...................#...\n",
      "........#.X.X..X.........#..........X...X.#..X.....X..#........X.X...............X..XX.....X.X..#....................#............\n",
      ".........#XXXXXX...#....#...........X...X#...X....#X.......#...X.X.........#....#X..XX.....X.X....................................\n",
      "...........#X..#............#.......X...X....X.#...X...........X.X...........#.#.X#.XX.....X.X.........#.#........................\n",
      ".#..........X.#..#..#...............X#.#XXXXXXXXXXXXXXXXXXXXXXXXXXXXXXXXXXXXXXXXXXXXXXXXXXXXXX..........##.............#..........\n",
      "...........#X......................#XXXXXXXXXXXXXXXXXXXXXXXXXXXXXXXXXXXXXXXXXXXXXX..XX.....X.#....................................\n",
      "..#.........X................#...........#...X..#..X...........X.X...............#.#XXXXXXXX......................................\n",
      "............X................................X.....X........#..X.X.............#.....X.....#.....##.................#.............\n",
      "....#.......X.#............................##XXXXXXX...........X.X...................X.#.....#....#..........#....................\n",
      "............X.....#..............#........#........#...........X.X......#............X.#....................#.....................\n",
      "....#.......X...........................#......................X.X...................X........#.............#...................#.\n",
      ".........#..X........#...#.............................#.......X.X...##..#...........X....................................#.#.....\n",
      "............X...............##..............#................#.X#X...................X...................#....................#...\n",
      "............X................#.#...............................X.X...................X##.....#..................................#.\n",
      "............X..................................................X.X...........#.......X..........#...#.................#...........\n",
      "............X...........#...........#..................#......#XXXXXXXXXXXXXXXXXXXXXXX............................................\n",
      ".....#......X................#......#................#...........X#..................#.................................#..........\n",
      "#..........#XXXXXXXXXXXXXXXXXXXXXXXXXXXXXXXXXXXXXXXXXXXXXXXXXXXXXX.............#...................#...#...............#..........\n",
      "....................#............................................#...............#........................##....#..#..............\n",
      ".#.....#............................#...............#.#.#..........................#.........#..............#.....................\n",
      ".............................#....................................#..#......#........................#...X........................\n"
     ]
    }
   ],
   "source": [
    "map_steps = map.copy()\n",
    "\n",
    "for step, _ in steps:\n",
    "    map_steps[step] = MapMarkers.VISITED\n",
    "\n",
    "for row in map_steps:\n",
    "    print(''.join(row))"
   ]
  },
  {
   "cell_type": "code",
   "execution_count": 33,
   "metadata": {},
   "outputs": [
    {
     "data": {
      "text/plain": [
       "(array(['#', '.', 'X'], dtype='<U1'), array([  785, 10653,  5462]))"
      ]
     },
     "execution_count": 33,
     "metadata": {},
     "output_type": "execute_result"
    }
   ],
   "source": [
    "np.unique(map_steps, return_counts=True)"
   ]
  },
  {
   "cell_type": "code",
   "execution_count": 35,
   "metadata": {},
   "outputs": [
    {
     "data": {
      "text/plain": [
       "5461"
      ]
     },
     "execution_count": 35,
     "metadata": {},
     "output_type": "execute_result"
    }
   ],
   "source": [
    "# subtracting 1 because we don't want to count the starting position\n",
    "len({c for c, _ in steps}) - 1"
   ]
  },
  {
   "cell_type": "code",
   "execution_count": 38,
   "metadata": {},
   "outputs": [
    {
     "name": "stdout",
     "output_type": "stream",
     "text": [
      "2020\n"
     ]
    }
   ],
   "source": [
    "# Part 2\n",
    "# need to check where in the steps I need to put an obstacle to create an infinite loop\n",
    "# visting the same coordinates with the same direction should imply an infinte loop\n",
    "\n",
    "infinite_loops = 0\n",
    "path = steps[:-1]\n",
    "path_visited = set()\n",
    "\n",
    "for (coordinates, direction), (next_step, _) in pairwise(path):\n",
    "    path_visited.add(coordinates)\n",
    "    current_path = set() | path_visited\n",
    "\n",
    "    # temporarliy add obstacle\n",
    "    original_value = map[next_step]\n",
    "    map[next_step] = MapMarkers.OBSTACLE\n",
    "\n",
    "    while True:\n",
    "        next_coordinates, next_direction, oob = get_next_coordinates(\n",
    "            map, coordinates, direction\n",
    "        )\n",
    "\n",
    "        # if we have visited the next coordinates with the same direction, we have an infinite loop\n",
    "        if (next_coordinates, next_direction) in current_path:\n",
    "            infinite_loops += 1\n",
    "            break\n",
    "\n",
    "        # checking if coordinates are outside of the map\n",
    "        if oob:\n",
    "            break\n",
    "\n",
    "        current_path.add((next_coordinates, next_direction))\n",
    "        coordinates = next_coordinates\n",
    "        direction = next_direction\n",
    "\n",
    "    # remove obstacle\n",
    "    map[next_step] = original_value\n",
    "\n",
    "print(infinite_loops)"
   ]
  },
  {
   "cell_type": "code",
   "execution_count": 14,
   "metadata": {},
   "outputs": [],
   "source": []
  }
 ],
 "metadata": {
  "kernelspec": {
   "display_name": ".venv",
   "language": "python",
   "name": "python3"
  },
  "language_info": {
   "codemirror_mode": {
    "name": "ipython",
    "version": 3
   },
   "file_extension": ".py",
   "mimetype": "text/x-python",
   "name": "python",
   "nbconvert_exporter": "python",
   "pygments_lexer": "ipython3",
   "version": "3.12.6"
  }
 },
 "nbformat": 4,
 "nbformat_minor": 2
}
