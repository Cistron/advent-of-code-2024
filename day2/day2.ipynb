{
 "cells": [
  {
   "cell_type": "code",
   "execution_count": null,
   "metadata": {},
   "outputs": [],
   "source": [
    "import pandas as pd"
   ]
  },
  {
   "cell_type": "code",
   "execution_count": null,
   "metadata": {},
   "outputs": [],
   "source": [
    "# The levels are either all increasing or all decreasing.\n",
    "# Any two adjacent levels differ by at least one and at most three."
   ]
  },
  {
   "cell_type": "code",
   "execution_count": 1,
   "metadata": {},
   "outputs": [],
   "source": [
    "# reading all lines into individual lines\n",
    "with open(\"input.txt\") as f:\n",
    "    data = f.read().splitlines()"
   ]
  },
  {
   "cell_type": "code",
   "execution_count": 2,
   "metadata": {},
   "outputs": [],
   "source": [
    "# splitting each line into integers\n",
    "split_data = [[int(i) for i in l.split()] for l in data]"
   ]
  },
  {
   "cell_type": "code",
   "execution_count": 4,
   "metadata": {},
   "outputs": [],
   "source": [
    "def is_increasing_or_decreasing(lst: list) -> bool:\n",
    "    return all(x < y for x, y in zip(lst, lst[1:])) or all(\n",
    "        x > y for x, y in zip(lst, lst[1:])\n",
    "    )"
   ]
  },
  {
   "cell_type": "code",
   "execution_count": 5,
   "metadata": {},
   "outputs": [],
   "source": [
    "def is_incremental(lst: list) -> bool:\n",
    "    return all(\n",
    "        abs(x - y) in [1, 2, 3] for x, y in zip(lst, lst[1:])\n",
    "    )"
   ]
  },
  {
   "cell_type": "code",
   "execution_count": 6,
   "metadata": {},
   "outputs": [
    {
     "name": "stdout",
     "output_type": "stream",
     "text": [
      "490\n"
     ]
    }
   ],
   "source": [
    "safe_reports = 0\n",
    "for report in split_data:\n",
    "    if is_increasing_or_decreasing(report) and is_incremental(report):\n",
    "        safe_reports += 1\n",
    "\n",
    "print(safe_reports)"
   ]
  },
  {
   "cell_type": "code",
   "execution_count": 7,
   "metadata": {},
   "outputs": [
    {
     "name": "stdout",
     "output_type": "stream",
     "text": [
      "536\n"
     ]
    }
   ],
   "source": [
    "# part 2\n",
    "# tolerate single bad level\n",
    "# remove each level and check if the rest is valid\n",
    "\n",
    "safe_reports = 0\n",
    "for report in split_data:\n",
    "    if is_increasing_or_decreasing(report) and is_incremental(report):\n",
    "        safe_reports += 1\n",
    "        continue\n",
    "    # create report iterations removing each level and check if the rest is valid\n",
    "    for i in range(len(report)):\n",
    "        new_report = report[:i] + report[i+1:]\n",
    "        if is_increasing_or_decreasing(new_report) and is_incremental(new_report):\n",
    "            safe_reports += 1\n",
    "            break\n",
    "\n",
    "print(safe_reports)"
   ]
  },
  {
   "cell_type": "code",
   "execution_count": null,
   "metadata": {},
   "outputs": [],
   "source": []
  }
 ],
 "metadata": {
  "kernelspec": {
   "display_name": ".venv",
   "language": "python",
   "name": "python3"
  },
  "language_info": {
   "codemirror_mode": {
    "name": "ipython",
    "version": 3
   },
   "file_extension": ".py",
   "mimetype": "text/x-python",
   "name": "python",
   "nbconvert_exporter": "python",
   "pygments_lexer": "ipython3",
   "version": "3.12.6"
  }
 },
 "nbformat": 4,
 "nbformat_minor": 2
}
