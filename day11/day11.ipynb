{
 "cells": [
  {
   "cell_type": "code",
   "execution_count": 2,
   "metadata": {},
   "outputs": [],
   "source": [
    "# If the stone is engraved with the number 0, it is replaced by a stone engraved with the number 1.\n",
    "# If the stone is engraved with a number that has an even number of digits, it is replaced by two stones. The left half of the digits are engraved on the new left stone, and the right half of the digits are engraved on the new right stone. (The new numbers don't keep extra leading zeroes: 1000 would become stones 10 and 0.)\n",
    "# If none of the other rules apply, the stone is replaced by a new stone; the old stone's number multiplied by 2024 is engraved on the new stone."
   ]
  },
  {
   "cell_type": "code",
   "execution_count": 1,
   "metadata": {},
   "outputs": [
    {
     "name": "stdout",
     "output_type": "stream",
     "text": [
      "197357\n"
     ]
    }
   ],
   "source": [
    "stones = \"4610211 4 0 59 3907 201586 929 33750\"\n",
    "# stones = \"125 17\"\n",
    "stones = stones.split(\" \")\n",
    "stones: list[int] = [int(x) for x in stones]\n",
    "\n",
    "i=0\n",
    "while i<25:\n",
    "    j=0\n",
    "    while j<len(stones):\n",
    "        if stones[j] == 0:\n",
    "            stones[j] = 1\n",
    "            j+=1\n",
    "        elif len(str(stones[j]))%2 == 0:\n",
    "            old_stone = str(stones[j])\n",
    "            mid_point = len(old_stone)//2\n",
    "            new_stone1 = int(old_stone[:mid_point])\n",
    "            new_stone2 = int(old_stone[mid_point:])\n",
    "            stones[j] = new_stone1\n",
    "            stones.insert(j+1, new_stone2)\n",
    "            j+=2\n",
    "        else:\n",
    "            stones[j] = stones[j]*2024\n",
    "            j+=1\n",
    "    i+=1\n",
    "\n",
    "print(len(stones))"
   ]
  },
  {
   "cell_type": "code",
   "execution_count": 1,
   "metadata": {},
   "outputs": [
    {
     "name": "stdout",
     "output_type": "stream",
     "text": [
      "197357\n",
      "234568186890978\n"
     ]
    }
   ],
   "source": [
    "from functools import cache\n",
    "\n",
    "stones = \"4610211 4 0 59 3907 201586 929 33750\"\n",
    "# stones = \"125 17\"\n",
    "stones = list(map(int, stones.split(\" \")))\n",
    "\n",
    "# cache decorator simply creates mapping tables between inputs\n",
    "# and outputs of the function. Quite useful here for this\n",
    "# recursion.\n",
    "\n",
    "\n",
    "@cache\n",
    "def count_stones(val: int, blinks: int) -> int:\n",
    "    if blinks == 0:\n",
    "        return 1\n",
    "    if val == 0:\n",
    "        return count_stones(1, blinks - 1)\n",
    "    # python voodoo string conversion (faster than str())\n",
    "    len_val = len(\"%i\" % val)\n",
    "    if len_val % 2 == 0:\n",
    "        divisor = 10 ** (len_val // 2)  # 1234 -> 100\n",
    "        new_val1 = val // divisor  # 1234/100 = 12.34 -> 12\n",
    "        new_val2 = val % divisor  # 1234 % 100 = 34\n",
    "        return count_stones(new_val1, blinks - 1) + count_stones(new_val2, blinks - 1)\n",
    "    return count_stones(val * 2024, blinks - 1)\n",
    "\n",
    "\n",
    "part1 = sum(count_stones(s, 25) for s in stones)\n",
    "part2 = sum(count_stones(s, 75) for s in stones)\n",
    "print(part1)\n",
    "print(part2)"
   ]
  },
  {
   "cell_type": "code",
   "execution_count": null,
   "metadata": {},
   "outputs": [],
   "source": []
  }
 ],
 "metadata": {
  "kernelspec": {
   "display_name": ".venv",
   "language": "python",
   "name": "python3"
  },
  "language_info": {
   "codemirror_mode": {
    "name": "ipython",
    "version": 3
   },
   "file_extension": ".py",
   "mimetype": "text/x-python",
   "name": "python",
   "nbconvert_exporter": "python",
   "pygments_lexer": "ipython3",
   "version": "3.12.6"
  }
 },
 "nbformat": 4,
 "nbformat_minor": 2
}
