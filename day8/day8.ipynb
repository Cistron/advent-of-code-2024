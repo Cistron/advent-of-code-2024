{
 "cells": [
  {
   "cell_type": "code",
   "execution_count": 1,
   "metadata": {},
   "outputs": [],
   "source": [
    "import numpy as np\n",
    "import itertools"
   ]
  },
  {
   "cell_type": "code",
   "execution_count": 2,
   "metadata": {},
   "outputs": [],
   "source": [
    "with open(\"input.txt\") as f:\n",
    "    data = f.readlines()\n",
    "\n",
    "# data = \"\"\"......#....#\n",
    "# ...#....0...\n",
    "# ....#0....#.\n",
    "# ..#....0....\n",
    "# ....0....#..\n",
    "# .#....A.....\n",
    "# ...#........\n",
    "# #......#....\n",
    "# ........A...\n",
    "# .........A..\n",
    "# ..........#.\n",
    "# ..........#.\"\"\".split(\"\\n\")\n",
    "\n",
    "data = [x.strip() for x in data]\n",
    "data = [list(x) for x in data]\n",
    "data = np.array(data)"
   ]
  },
  {
   "cell_type": "code",
   "execution_count": 3,
   "metadata": {},
   "outputs": [
    {
     "data": {
      "text/plain": [
       "array(['.', '.', '.', '.', '.', '.', '.', '.', '.', '.', '.', '.', '.',\n",
       "       '.', '.', '.', '.', '.', '.', '3', '.', '.', '.', '.', '.', '.',\n",
       "       '.', '.', '.', '.', '.', '.', '.', '.', 'p', '.', '.', '.', 'B',\n",
       "       '.', '.', '.', '.', '.', '.', '.', '.', '.', '.', '.'], dtype='<U1')"
      ]
     },
     "execution_count": 3,
     "metadata": {},
     "output_type": "execute_result"
    }
   ],
   "source": [
    "data[:, 0]"
   ]
  },
  {
   "cell_type": "code",
   "execution_count": 4,
   "metadata": {},
   "outputs": [
    {
     "data": {
      "text/plain": [
       "(array(['.', '0', '1', '2', '3', '4', '5', '6', '7', '8', '9', 'A', 'B',\n",
       "        'C', 'D', 'E', 'F', 'G', 'H', 'I', 'J', 'K', 'L', 'M', 'N', 'O',\n",
       "        'P', 'Q', 'R', 'S', 'T', 'U', 'V', 'W', 'X', 'Y', 'Z', 'a', 'b',\n",
       "        'c', 'd', 'e', 'f', 'g', 'h', 'i', 'j', 'k', 'l', 'm', 'n', 'o',\n",
       "        'p', 'q', 'r', 's', 't', 'u', 'v', 'w', 'x', 'y', 'z'], dtype='<U1'),\n",
       " array([2258,    4,    4,    4,    4,    4,    3,    4,    4,    4,    3,\n",
       "           4,    4,    4,    4,    4,    4,    4,    4,    4,    4,    4,\n",
       "           4,    4,    4,    4,    4,    4,    4,    4,    4,    4,    4,\n",
       "           4,    4,    4,    4,    4,    4,    4,    3,    4,    4,    3,\n",
       "           4,    4,    4,    4,    3,    4,    4,    4,    4,    4,    4,\n",
       "           4,    4,    4,    4,    4,    4,    3,    4]))"
      ]
     },
     "execution_count": 4,
     "metadata": {},
     "output_type": "execute_result"
    }
   ],
   "source": [
    "np.unique(data, return_counts=True)"
   ]
  },
  {
   "cell_type": "code",
   "execution_count": 5,
   "metadata": {},
   "outputs": [
    {
     "data": {
      "text/plain": [
       "array(['.', '0', '1', '2', '3', '4', '5', '6', '7', '8', '9', 'A', 'B',\n",
       "       'C', 'D', 'E', 'F', 'G', 'H', 'I', 'J', 'K', 'L', 'M', 'N', 'O',\n",
       "       'P', 'Q', 'R', 'S', 'T', 'U', 'V', 'W', 'X', 'Y', 'Z', 'a', 'b',\n",
       "       'c', 'd', 'e', 'f', 'g', 'h', 'i', 'j', 'k', 'l', 'm', 'n', 'o',\n",
       "       'p', 'q', 'r', 's', 't', 'u', 'v', 'w', 'x', 'y', 'z'], dtype='<U1')"
      ]
     },
     "execution_count": 5,
     "metadata": {},
     "output_type": "execute_result"
    }
   ],
   "source": [
    "np.unique(data)"
   ]
  },
  {
   "cell_type": "code",
   "execution_count": null,
   "metadata": {},
   "outputs": [],
   "source": [
    "# solution approach (exepct nan)\n",
    "# iterate over all unique symbols in the data\n",
    "# get the indices for each of the symbols\n",
    "# calculate distances for each pairwise combination of the indices\n",
    "# calculate all antinode distances for each pairwise combination\n",
    "# check whether these are within the bounds of the data\n",
    "# collect valid coordinates within a list\n",
    "\n",
    "antinodes = []\n",
    "\n",
    "for sym in np.unique(data):\n",
    "    if sym == \".\" or sym == \"#\":\n",
    "        continue\n",
    "    indices = np.where(data == sym)\n",
    "    indices = list(zip(indices[0], indices[1]))\n",
    "    for node1, node2 in list(itertools.combinations(indices, 2)):\n",
    "        drow = node1[0] - node2[0]  # e.g. 21 - 22 = -1\n",
    "        dcol = node1[1] - node2[1]  # e.g. 9 - 25 = -16\n",
    "        antinode1 = (node1[0] + drow, node1[1] + dcol)\n",
    "        antinode2 = (node2[0] - drow, node2[1] - dcol)\n",
    "        antinodes += [antinode1, antinode2]\n",
    "\n",
    "max_row = data.shape[0] - 1\n",
    "max_col = data.shape[1] - 1\n",
    "\n",
    "valid_antinodes = set()\n",
    "for antinode in antinodes:\n",
    "    if 0 <= antinode[0] <= max_row and 0 <= antinode[1] <= max_col:\n",
    "        valid_antinodes.add(antinode)"
   ]
  },
  {
   "cell_type": "code",
   "execution_count": 13,
   "metadata": {},
   "outputs": [
    {
     "name": "stdout",
     "output_type": "stream",
     "text": [
      "398\n"
     ]
    }
   ],
   "source": [
    "# need to take the set, as antinodes can overlap\n",
    "print(len(valid_antinodes))"
   ]
  },
  {
   "cell_type": "code",
   "execution_count": 43,
   "metadata": {},
   "outputs": [],
   "source": [
    "with open(\"input.txt\") as f:\n",
    "    data = f.readlines()\n",
    "\n",
    "# data = \"\"\"##....#....#\n",
    "# .#.#....0...\n",
    "# ..#.#0....#.\n",
    "# ..##...0....\n",
    "# ....0....#..\n",
    "# .#...#A....#\n",
    "# ...#..#.....\n",
    "# #....#.#....\n",
    "# ..#.....A...\n",
    "# ....#....A..\n",
    "# .#........#.\n",
    "# ...#......##\"\"\".split(\"\\n\")\n",
    "\n",
    "data = [x.strip() for x in data]\n",
    "data = [list(x) for x in data]\n",
    "data = np.array(data)"
   ]
  },
  {
   "cell_type": "code",
   "execution_count": 44,
   "metadata": {},
   "outputs": [
    {
     "data": {
      "text/plain": [
       "array([['.', '.', '.', ..., '.', '.', '.'],\n",
       "       ['.', '.', '.', ..., '.', '.', '.'],\n",
       "       ['.', '.', '.', ..., '.', '.', '.'],\n",
       "       ...,\n",
       "       ['.', '.', '.', ..., '.', '.', 'a'],\n",
       "       ['.', '.', '.', ..., 't', '.', '.'],\n",
       "       ['.', '.', '.', ..., '.', '.', '.']], shape=(50, 50), dtype='<U1')"
      ]
     },
     "execution_count": 44,
     "metadata": {},
     "output_type": "execute_result"
    }
   ],
   "source": [
    "data"
   ]
  },
  {
   "cell_type": "code",
   "execution_count": 45,
   "metadata": {},
   "outputs": [
    {
     "data": {
      "text/plain": [
       "(array(['.', '0', '1', '2', '3', '4', '5', '6', '7', '8', '9', 'A', 'B',\n",
       "        'C', 'D', 'E', 'F', 'G', 'H', 'I', 'J', 'K', 'L', 'M', 'N', 'O',\n",
       "        'P', 'Q', 'R', 'S', 'T', 'U', 'V', 'W', 'X', 'Y', 'Z', 'a', 'b',\n",
       "        'c', 'd', 'e', 'f', 'g', 'h', 'i', 'j', 'k', 'l', 'm', 'n', 'o',\n",
       "        'p', 'q', 'r', 's', 't', 'u', 'v', 'w', 'x', 'y', 'z'], dtype='<U1'),\n",
       " array([2258,    4,    4,    4,    4,    4,    3,    4,    4,    4,    3,\n",
       "           4,    4,    4,    4,    4,    4,    4,    4,    4,    4,    4,\n",
       "           4,    4,    4,    4,    4,    4,    4,    4,    4,    4,    4,\n",
       "           4,    4,    4,    4,    4,    4,    4,    3,    4,    4,    3,\n",
       "           4,    4,    4,    4,    3,    4,    4,    4,    4,    4,    4,\n",
       "           4,    4,    4,    4,    4,    4,    3,    4]))"
      ]
     },
     "execution_count": 45,
     "metadata": {},
     "output_type": "execute_result"
    }
   ],
   "source": [
    "np.unique(data, return_counts=True)"
   ]
  },
  {
   "cell_type": "code",
   "execution_count": 46,
   "metadata": {},
   "outputs": [
    {
     "name": "stdout",
     "output_type": "stream",
     "text": [
      "1333\n"
     ]
    }
   ],
   "source": [
    "# Part 2\n",
    "\n",
    "max_row = data.shape[0] - 1\n",
    "max_col = data.shape[1] - 1\n",
    "\n",
    "antinodes = []\n",
    "\n",
    "for sym in np.unique(data):\n",
    "    if sym == \".\" or sym == \"#\":\n",
    "        continue\n",
    "    indices = np.where(data == sym)\n",
    "    indices = list(zip(indices[0], indices[1]))\n",
    "    for node1, node2 in list(itertools.combinations(indices, 2)):\n",
    "        drow = node1[0] - node2[0]  # e.g. 21 - 22 = -1\n",
    "        dcol = node1[1] - node2[1]  # e.g. 9 - 25 = -16\n",
    "        # find last point in still in map\n",
    "        origin = node1\n",
    "        while True:\n",
    "            new_row = origin[0] + drow\n",
    "            new_col = origin[1] + dcol\n",
    "            if new_row < 0 or new_row > max_row or new_col < 0 or new_col > max_col:\n",
    "                break\n",
    "            origin = (new_row, new_col)\n",
    "        antinodes.append(origin)\n",
    "        \n",
    "        # find all antinodes along the line\n",
    "        while True:\n",
    "            new_row = origin[0] - drow\n",
    "            new_col = origin[1] - dcol\n",
    "            if new_row < 0 or new_row > max_row or new_col < 0 or new_col > max_col:\n",
    "                break\n",
    "            antinodes.append((new_row, new_col))\n",
    "            origin = (new_row, new_col)\n",
    "\n",
    "print(len(set(antinodes)))"
   ]
  },
  {
   "cell_type": "code",
   "execution_count": null,
   "metadata": {},
   "outputs": [],
   "source": []
  }
 ],
 "metadata": {
  "kernelspec": {
   "display_name": ".venv",
   "language": "python",
   "name": "python3"
  },
  "language_info": {
   "codemirror_mode": {
    "name": "ipython",
    "version": 3
   },
   "file_extension": ".py",
   "mimetype": "text/x-python",
   "name": "python",
   "nbconvert_exporter": "python",
   "pygments_lexer": "ipython3",
   "version": "3.12.6"
  }
 },
 "nbformat": 4,
 "nbformat_minor": 2
}
