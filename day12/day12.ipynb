{
 "cells": [
  {
   "cell_type": "code",
   "execution_count": 3,
   "metadata": {},
   "outputs": [],
   "source": [
    "import numpy as np"
   ]
  },
  {
   "cell_type": "code",
   "execution_count": 4,
   "metadata": {},
   "outputs": [],
   "source": [
    "plot = \"\"\"RRRRIICCFF\n",
    "RRRRIICCCF\n",
    "VVRRRCCFFF\n",
    "VVRCCCJFFF\n",
    "VVVVCJJCFE\n",
    "VVIVCCJJEE\n",
    "VVIIICJJEE\n",
    "MIIIIIJJEE\n",
    "MIIISIJEEE\n",
    "MMMISSJEEE\"\"\".split('\\n')\n",
    "plot = [list(row) for row in plot]\n",
    "plot = np.array(plot)"
   ]
  },
  {
   "cell_type": "code",
   "execution_count": 6,
   "metadata": {},
   "outputs": [
    {
     "data": {
      "text/plain": [
       "array([['R', 'R', 'R', 'R', 'I', 'I', 'C', 'C', 'F', 'F'],\n",
       "       ['R', 'R', 'R', 'R', 'I', 'I', 'C', 'C', 'C', 'F'],\n",
       "       ['V', 'V', 'R', 'R', 'R', 'C', 'C', 'F', 'F', 'F'],\n",
       "       ['V', 'V', 'R', 'C', 'C', 'C', 'J', 'F', 'F', 'F'],\n",
       "       ['V', 'V', 'V', 'V', 'C', 'J', 'J', 'C', 'F', 'E'],\n",
       "       ['V', 'V', 'I', 'V', 'C', 'C', 'J', 'J', 'E', 'E'],\n",
       "       ['V', 'V', 'I', 'I', 'I', 'C', 'J', 'J', 'E', 'E'],\n",
       "       ['M', 'I', 'I', 'I', 'I', 'I', 'J', 'J', 'E', 'E'],\n",
       "       ['M', 'I', 'I', 'I', 'S', 'I', 'J', 'E', 'E', 'E'],\n",
       "       ['M', 'M', 'M', 'I', 'S', 'S', 'J', 'E', 'E', 'E']], dtype='<U1')"
      ]
     },
     "execution_count": 6,
     "metadata": {},
     "output_type": "execute_result"
    }
   ],
   "source": [
    "plot"
   ]
  },
  {
   "cell_type": "code",
   "execution_count": null,
   "metadata": {},
   "outputs": [],
   "source": [
    "# start at the top left\n",
    "# find all neighbors with the same letter\n",
    "# from those neighbors, find all neighbors with the same letter\n",
    "# repeat until no more new neigbors are foudn\n",
    "# mark all visited neighbors\n",
    "# when hitting a new letter, start a new process and continue\n",
    "# can this be done with conversion of while loops?"
   ]
  },
  {
   "cell_type": "code",
   "execution_count": 106,
   "metadata": {},
   "outputs": [
    {
     "name": "stdout",
     "output_type": "stream",
     "text": [
      "Letter: R, Size: 12, Circumference: 18\n",
      "Letter: I, Size: 4, Circumference: 8\n",
      "Letter: C, Size: 14, Circumference: 28\n",
      "Letter: F, Size: 10, Circumference: 18\n",
      "Letter: V, Size: 13, Circumference: 20\n",
      "Letter: J, Size: 11, Circumference: 20\n",
      "Letter: C, Size: 1, Circumference: 4\n",
      "Letter: E, Size: 13, Circumference: 18\n",
      "Letter: I, Size: 14, Circumference: 22\n",
      "Letter: M, Size: 5, Circumference: 12\n",
      "Letter: S, Size: 3, Circumference: 8\n",
      "1930\n"
     ]
    }
   ],
   "source": [
    "def get_neighbors(x, y, plot):\n",
    "    neighbors = []\n",
    "    if x > 0:\n",
    "        neighbors.append((x - 1, y))\n",
    "    if x < plot.shape[0] - 1:\n",
    "        neighbors.append((x + 1, y))\n",
    "    if y > 0:\n",
    "        neighbors.append((x, y - 1))\n",
    "    if y < plot.shape[1] - 1:\n",
    "        neighbors.append((x, y + 1))\n",
    "    return neighbors\n",
    "\n",
    "\n",
    "def dfs(x, y, plot, visited):\n",
    "    stack = [(x, y)]\n",
    "    letter = plot[x, y]\n",
    "    size = 0\n",
    "    circumference = 0\n",
    "    while stack:\n",
    "        cx, cy = stack.pop()\n",
    "        if (cx, cy) in visited:\n",
    "            continue\n",
    "        visited.add((cx, cy))\n",
    "        size += 1\n",
    "        for nx, ny in get_neighbors(cx, cy, plot):\n",
    "            if plot[nx, ny] == letter and (nx, ny) not in visited:\n",
    "                stack.append((nx, ny))\n",
    "            elif plot[nx, ny] != letter:\n",
    "                circumference += 1\n",
    "        # Check for boundaries\n",
    "        if cx == 0 or cx == plot.shape[0] - 1:\n",
    "            circumference += 1\n",
    "        if cy == 0 or cy == plot.shape[1] - 1:\n",
    "            circumference += 1\n",
    "    return size, circumference\n",
    "\n",
    "\n",
    "def find_plots(plot):\n",
    "    visited = set()\n",
    "    results = []\n",
    "    for x in range(plot.shape[0]):\n",
    "        for y in range(plot.shape[1]):\n",
    "            if (x, y) not in visited:\n",
    "                size, circumference = dfs(x, y, plot, visited)\n",
    "                results.append((plot[x, y], size, circumference))\n",
    "    return results\n",
    "\n",
    "\n",
    "results = find_plots(plot)\n",
    "\n",
    "cost = 0\n",
    "for letter, size, circumference in results:\n",
    "    print(f\"Letter: {letter}, Size: {size}, Circumference: {circumference}\")\n",
    "    cost += size * circumference\n",
    "\n",
    "print(cost)"
   ]
  }
 ],
 "metadata": {
  "kernelspec": {
   "display_name": ".venv",
   "language": "python",
   "name": "python3"
  },
  "language_info": {
   "codemirror_mode": {
    "name": "ipython",
    "version": 3
   },
   "file_extension": ".py",
   "mimetype": "text/x-python",
   "name": "python",
   "nbconvert_exporter": "python",
   "pygments_lexer": "ipython3",
   "version": "3.12.6"
  }
 },
 "nbformat": 4,
 "nbformat_minor": 2
}
