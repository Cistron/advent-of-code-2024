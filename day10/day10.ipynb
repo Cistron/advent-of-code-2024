{
 "cells": [
  {
   "cell_type": "code",
   "execution_count": 2,
   "metadata": {},
   "outputs": [],
   "source": [
    "import numpy as np"
   ]
  },
  {
   "cell_type": "code",
   "execution_count": 48,
   "metadata": {},
   "outputs": [],
   "source": [
    "# map = \"\"\"89010123\n",
    "# 78121874\n",
    "# 87430965\n",
    "# 96549874\n",
    "# 45678903\n",
    "# 32019012\n",
    "# 01329801\n",
    "# 10456732\"\"\".split(\"\\n\")\n",
    "\n",
    "with open(\"input.txt\") as f:\n",
    "    map = f.readlines()\n",
    "\n",
    "map = [x.strip() for x in map]\n",
    "map = [[int(x) for x in row] for row in map]\n",
    "map = np.array(map)\n",
    "\n",
    "# finding all trial starts\n",
    "trailheads = np.where(map == 0)\n",
    "trailheads = list(zip(trailheads[0], trailheads[1]))"
   ]
  },
  {
   "cell_type": "code",
   "execution_count": 49,
   "metadata": {},
   "outputs": [
    {
     "data": {
      "text/plain": [
       "array([[0, 9, 8, ..., 1, 2, 3],\n",
       "       [1, 2, 9, ..., 4, 3, 4],\n",
       "       [2, 3, 4, ..., 5, 2, 1],\n",
       "       ...,\n",
       "       [5, 8, 9, ..., 6, 5, 0],\n",
       "       [0, 1, 2, ..., 7, 8, 9],\n",
       "       [1, 0, 3, ..., 6, 7, 8]], shape=(40, 40))"
      ]
     },
     "execution_count": 49,
     "metadata": {},
     "output_type": "execute_result"
    }
   ],
   "source": [
    "map"
   ]
  },
  {
   "cell_type": "code",
   "execution_count": 52,
   "metadata": {},
   "outputs": [
    {
     "name": "stdout",
     "output_type": "stream",
     "text": [
      "430\n"
     ]
    }
   ],
   "source": [
    "def find_peaks(row: int, col: int) -> list[tuple[int, int]]:\n",
    "    # find all fields that are ascending from row, col\n",
    "    current_value = map[row, col]\n",
    "    directions = [(0, 1), (1, 0), (0, -1), (-1, 0)]\n",
    "    peaks = []\n",
    "    for direction in directions:\n",
    "        new_row = row + direction[0]\n",
    "        new_col = col + direction[1]\n",
    "        if new_row < 0 or new_row >= map.shape[0] or new_col < 0 or new_col >= map.shape[1]:\n",
    "            continue\n",
    "        if map[new_row, new_col] == current_value+1:\n",
    "            if map[new_row, new_col] == 9:\n",
    "                peaks.append((new_row, new_col))\n",
    "                continue\n",
    "            peaks.extend(find_peaks(new_row, new_col))\n",
    "    return peaks\n",
    "\n",
    "peaks = 0\n",
    "for trailhead in trailheads:\n",
    "    row = trailhead[0]\n",
    "    col = trailhead[1]\n",
    "    peaks += len(set(find_peaks(row, col)))\n",
    "\n",
    "print(peaks)"
   ]
  },
  {
   "cell_type": "code",
   "execution_count": 6,
   "metadata": {},
   "outputs": [],
   "source": [
    "# part 2\n",
    "# rate each trailhead by the number of routes\n",
    "\n",
    "# map = \"\"\"89010123\n",
    "# 78121874\n",
    "# 87430965\n",
    "# 96549874\n",
    "# 45678903\n",
    "# 32019012\n",
    "# 01329801\n",
    "# 10456732\"\"\".split(\"\\n\")\n",
    "\n",
    "with open(\"input.txt\") as f:\n",
    "    map = f.readlines()\n",
    "\n",
    "map = [x.strip() for x in map]\n",
    "map = [[int(x) for x in row] for row in map]\n",
    "map = np.array(map)\n",
    "\n",
    "# finding all trial starts\n",
    "trailheads = np.where(map == 0)\n",
    "trailheads = list(zip(trailheads[0], trailheads[1]))"
   ]
  },
  {
   "cell_type": "code",
   "execution_count": 7,
   "metadata": {},
   "outputs": [
    {
     "name": "stdout",
     "output_type": "stream",
     "text": [
      "928\n"
     ]
    }
   ],
   "source": [
    "def find_peaks(row: int, col: int) -> list[tuple[int, int]]:\n",
    "    # find all fields that are ascending from row, col\n",
    "    current_value = map[row, col]\n",
    "    directions = [(0, 1), (1, 0), (0, -1), (-1, 0)]\n",
    "    peaks = []\n",
    "    for direction in directions:\n",
    "        new_row = row + direction[0]\n",
    "        new_col = col + direction[1]\n",
    "        if new_row < 0 or new_row >= map.shape[0] or new_col < 0 or new_col >= map.shape[1]:\n",
    "            continue\n",
    "        if map[new_row, new_col] == current_value+1:\n",
    "            if map[new_row, new_col] == 9:\n",
    "                peaks.append((new_row, new_col))\n",
    "                continue\n",
    "            peaks.extend(find_peaks(new_row, new_col))\n",
    "    return peaks\n",
    "\n",
    "\n",
    "# only had to remove the set() call below\n",
    "peaks = 0\n",
    "for trailhead in trailheads:\n",
    "    row = trailhead[0]\n",
    "    col = trailhead[1]\n",
    "    peaks += len(find_peaks(row, col))\n",
    "\n",
    "print(peaks)"
   ]
  },
  {
   "cell_type": "code",
   "execution_count": null,
   "metadata": {},
   "outputs": [],
   "source": []
  }
 ],
 "metadata": {
  "kernelspec": {
   "display_name": ".venv",
   "language": "python",
   "name": "python3"
  },
  "language_info": {
   "codemirror_mode": {
    "name": "ipython",
    "version": 3
   },
   "file_extension": ".py",
   "mimetype": "text/x-python",
   "name": "python",
   "nbconvert_exporter": "python",
   "pygments_lexer": "ipython3",
   "version": "3.12.6"
  }
 },
 "nbformat": 4,
 "nbformat_minor": 2
}
